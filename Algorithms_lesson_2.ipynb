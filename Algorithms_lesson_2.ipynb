{
 "cells": [
  {
   "cell_type": "code",
   "execution_count": 3,
   "metadata": {},
   "outputs": [],
   "source": [
    "import matplotlib\n",
    "import numpy as np\n",
    "import matplotlib.pyplot as plt\n",
    "from sklearn.linear_model import LinearRegression as sklearn_LR\n",
    "%matplotlib inline"
   ]
  },
  {
   "cell_type": "markdown",
   "metadata": {},
   "source": [
    "#### 1.В этом задании вы должны модифицировать реализацию рассчёта среднеквадратичной ошибки и рассчёта её производной, так, чтобы с к среднеквадратичной ошибке добавлялась l2 регулярязационная поправка: $ +c*\\sum \\limits _{j}  w_{j}^2 $ а к градиенту- ссответствующее выражение для градиента регулярязационной поправки."
   ]
  },
  {
   "cell_type": "code",
   "execution_count": 46,
   "metadata": {},
   "outputs": [],
   "source": [
    "class linear_regression:\n",
    "    def __init__(self, eta = 0.3, max_iter = 100, min_weight_dist = 1e-8, c = 0.001):\n",
    "        self.eta = eta\n",
    "        self.max_iter = max_iter\n",
    "        self.min_weight_dist = min_weight_dist\n",
    "        self.c = c\n",
    "    def _mserror(self, X, y_real):\n",
    "        #рассчёт среднеквадратичной ошибки\n",
    "        y = X.dot(self.w.T)+self.w0 \n",
    "        return np.sum((y - y_real)**2) / y_real.shape[0] + self.c*np.sum(self.w**2)\n",
    "    def _mserror_grad(self, X, y_real):\n",
    "        #рассчёт градиента ошибки.\n",
    "        #2*delta.T.dot(X)/y_real.shape[0] - градиент по коэффициентам при факторах\n",
    "        #np.sum(2*delta)/y_real.shape[0] - производная(градиент) при нулевом коэффициенте\n",
    "        delta=(X.dot(self.w.T)+self.w0-y_real)\n",
    "        return 2*delta.T.dot(X)/y_real.shape[0] + 2* self.c*self.w, np.sum(2*delta)/y_real.shape[0] \n",
    "    def _optimize(self, X, Y):\n",
    "        #оптимизация коэффициентов\n",
    "        iter_num = 0\n",
    "        weight_dist = np.inf\n",
    "        self.w = np.zeros((1, X.shape[1]))\n",
    "        self.w0=0\n",
    "        while weight_dist > self.min_weight_dist and iter_num < self.max_iter:\n",
    "            gr_w, gr_w0=self._mserror_grad(X, Y)\n",
    "            if iter_num==0:\n",
    "                #Чтобы eta адаптировалась к порядку градиента, делим на l2 норму градиента в нуле\n",
    "                eta=self.eta/np.sqrt(np.linalg.norm(gr_w)**2+(gr_w0)**2)\n",
    "            new_w = self.w - eta * gr_w\n",
    "            new_w0= self.w0 - eta * gr_w0\n",
    "            #print(f'current error: {self._mserror(X, Y)}')\n",
    "            weight_dist = np.sqrt(np.linalg.norm(new_w - self.w)**2+(new_w0 - self.w0)**2)\n",
    "            iter_num += 1\n",
    "            self.w = new_w\n",
    "            self.w0 = new_w0\n",
    "    def fit(self, X, Y):\n",
    "        if Y.ndim==1:\n",
    "            Y=Y[:, np.newaxis]\n",
    "        self._optimize(X, Y)\n",
    "    def predict(self, X):\n",
    "        return (X.dot(self.w.T)+self.w0).flatten()\n",
    "    def test(self, X, Y):\n",
    "        if Y.ndim==1:\n",
    "            Y=Y[:, np.newaxis]\n",
    "        return self._mserror(X, Y)"
   ]
  },
  {
   "cell_type": "code",
   "execution_count": 36,
   "metadata": {},
   "outputs": [],
   "source": [
    "X = np.random.uniform(-10, 10, (100, 2))\n",
    "w_true = np.random.normal(size=(1, 2 ))\n",
    "Y = X.dot(w_true.T) + np.random.normal(0, 0.5, size=(100, 1))"
   ]
  },
  {
   "cell_type": "code",
   "execution_count": 37,
   "metadata": {},
   "outputs": [
    {
     "data": {
      "text/plain": [
       "0.18181310550757027"
      ]
     },
     "execution_count": 37,
     "metadata": {},
     "output_type": "execute_result"
    }
   ],
   "source": [
    "lr=linear_regression(c = 0.001)\n",
    "lr.fit(X, Y)\n",
    "lr.test(X, Y)"
   ]
  },
  {
   "cell_type": "markdown",
   "metadata": {},
   "source": [
    "#### 2.На основе этих функций создайте свою регуляризированную полиномиальную регрессию и опробуйте на одном из примеров построения полиномиальной модели из этого урока."
   ]
  },
  {
   "cell_type": "code",
   "execution_count": 47,
   "metadata": {},
   "outputs": [],
   "source": [
    "class polynomial_regression(linear_regression):\n",
    "    def __init__(self, max_power, *args, **kwargs):\n",
    "        self.max_power=max_power\n",
    "        super().__init__(*args, **kwargs)\n",
    "    @staticmethod\n",
    "    def generate_features(x, max_power):\n",
    "        x=x[:, np.newaxis]\n",
    "        return np.concatenate([x**i for i in range(1, max_power+1)], axis=1)\n",
    "    def fit(self, x, y):\n",
    "        super().fit(self.generate_features(x, self.max_power), y)\n",
    "    def predict(self, x):\n",
    "        return super().predict(self.generate_features(x, self.max_power)).flatten()\n",
    "    def test(self, x, y):\n",
    "        return super().test(self.generate_features(x, self.max_power), y)"
   ]
  },
  {
   "cell_type": "code",
   "execution_count": 48,
   "metadata": {},
   "outputs": [],
   "source": [
    "# в 1м задании уже переделала родительский класс, но всё-таки здесь переопределила то же самое\n",
    "class polynomial_regression_reg(polynomial_regression):\n",
    "    def __init__(self, *args, **kwargs):\n",
    "        super().__init__(*args, **kwargs)\n",
    " \n",
    "    def _mserror(self, X, y_real):\n",
    "        y = X.dot(self.w.T)+self.w0\n",
    "        return np.sum((y - y_real)**2) / y_real.shape[0] + self.c*np.sum(self.w**2)\n",
    "\n",
    "    def _mserror_grad(self, X, y_real): \n",
    "        delta=(X.dot(self.w.T)+self.w0-y_real)\n",
    "        return 2*delta.T.dot(X)/y_real.shape[0] + 2* self.c*self.w, np.sum(2*delta)/y_real.shape[0]"
   ]
  },
  {
   "cell_type": "code",
   "execution_count": 14,
   "metadata": {},
   "outputs": [
    {
     "data": {
      "text/plain": [
       "[<matplotlib.lines.Line2D at 0x234cd3afd48>]"
      ]
     },
     "execution_count": 14,
     "metadata": {},
     "output_type": "execute_result"
    },
    {
     "data": {
      "image/png": "[encoded data removed]",
      "text/plain": [
       "<Figure size 432x288 with 1 Axes>"
      ]
     },
     "metadata": {
      "needs_background": "light"
     },
     "output_type": "display_data"
    }
   ],
   "source": [
    "def f(x):\n",
    "    return 0.6 - 13.2 * x - 5.3 * x ** 2 - 4.17 * x ** 3\n",
    "dots = np.linspace(-10, 10, 100)\n",
    "plt.xlabel('x')\n",
    "plt.ylabel('f(x)')\n",
    "plt.ylim(-5000, 5000)\n",
    "plt.xlim(-10,10)\n",
    "\n",
    "plt.plot(dots, f(dots), color='g')"
   ]
  },
  {
   "cell_type": "code",
   "execution_count": 15,
   "metadata": {},
   "outputs": [],
   "source": [
    "np.random.seed(16)\n",
    "x_data = np.random.uniform(-10, 10, 10)\n",
    "f_data = [f(i) for i in x_data] + np.random.uniform(-1000, 1000, 10)"
   ]
  },
  {
   "cell_type": "code",
   "execution_count": 16,
   "metadata": {},
   "outputs": [
    {
     "data": {
      "text/plain": [
       "array([  745.4884675 ,  -851.08250932,   422.69810766,  2129.66866668,\n",
       "        -413.07267878,   206.52054624,    44.24369404,  1046.66448866,\n",
       "        1799.10906399, -3495.863552  ])"
      ]
     },
     "execution_count": 16,
     "metadata": {},
     "output_type": "execute_result"
    }
   ],
   "source": [
    "f_data"
   ]
  },
  {
   "cell_type": "code",
   "execution_count": 55,
   "metadata": {},
   "outputs": [
    {
     "name": "stdout",
     "output_type": "stream",
     "text": [
      "Коэффициенты при факторах(наша модель): [[-0.00026017  0.00221116 -0.00941757  0.06163665 -0.05145382 -0.00241746]]\n"
     ]
    },
    {
     "data": {
      "text/plain": [
       "153502.466748139"
      ]
     },
     "execution_count": 55,
     "metadata": {},
     "output_type": "execute_result"
    }
   ],
   "source": [
    "our_mod=polynomial_regression_reg(6, 0.0005, max_iter = 1e5, c = 100)\n",
    "our_mod.fit(x_data, f_data)\n",
    "print('Коэффициенты при факторах(наша модель):', our_mod.w)\n",
    "our_mod.test(x_data, f_data)"
   ]
  },
  {
   "cell_type": "code",
   "execution_count": 50,
   "metadata": {},
   "outputs": [
    {
     "data": {
      "text/plain": [
       "array([ 2.23046172e+02, -8.84853466e-04, -5.00894705e-02,  2.25483771e+03,\n",
       "        8.23974164e+00,  2.23851423e+02, -4.24980261e+01,  5.59811843e+02,\n",
       "        1.74628639e+03, -3.47347887e+03])"
      ]
     },
     "execution_count": 50,
     "metadata": {},
     "output_type": "execute_result"
    }
   ],
   "source": [
    "our_mod.predict(x_data)"
   ]
  },
  {
   "cell_type": "code",
   "execution_count": 51,
   "metadata": {},
   "outputs": [
    {
     "data": {
      "text/plain": [
       "[<matplotlib.lines.Line2D at 0x234ce543948>]"
      ]
     },
     "execution_count": 51,
     "metadata": {},
     "output_type": "execute_result"
    },
    {
     "data": {
      "image/png": "[encoded data removed]",
      "text/plain": [
       "<Figure size 432x288 with 1 Axes>"
      ]
     },
     "metadata": {
      "needs_background": "light"
     },
     "output_type": "display_data"
    }
   ],
   "source": [
    "#Актуальные данные\n",
    "plt.xlabel('x')\n",
    "plt.ylabel('f(x)')\n",
    "plt.ylim(-5000, 5000)\n",
    "plt.xlim(-10,10)\n",
    "plt.plot(dots, f(dots), color='g')\n",
    "plt.scatter(x_data, f_data)\n",
    "\n",
    "#Наша модель\n",
    "plt.plot(dots, our_mod.predict(dots), color='r')"
   ]
  },
  {
   "cell_type": "code",
   "execution_count": 52,
   "metadata": {},
   "outputs": [
    {
     "name": "stdout",
     "output_type": "stream",
     "text": [
      "0.9281057304553232\n"
     ]
    }
   ],
   "source": [
    "def r_square(y, y_real):\n",
    "    ss_total=np.sum((y_real-np.mean(y_real))**2)\n",
    "    ss_res=np.sum((y_real-y)**2)\n",
    "    return 1-ss_res/ss_total\n",
    "print(r_square(our_mod.predict(x_data), f_data))"
   ]
  },
  {
   "cell_type": "code",
   "execution_count": 58,
   "metadata": {},
   "outputs": [
    {
     "name": "stdout",
     "output_type": "stream",
     "text": [
      "0.7208868147808909\n"
     ]
    }
   ],
   "source": [
    "indexes=np.arange(len(f_data))%5\n",
    "y_actual=[]\n",
    "y_predicted=[]\n",
    "\n",
    "for i in range(5):\n",
    "    y_actual.append(f_data[indexes==i])\n",
    "    mod=polynomial_regression_reg(3, 0.0005, max_iter = 1e5, c = 0.1)\n",
    "    mod.fit(x_data[indexes!=i], f_data[indexes!=i])\n",
    "    y_predicted.append(mod.predict(x_data[indexes==i]))\n",
    "    \n",
    "y_actual=np.concatenate(y_actual)\n",
    "y_predicted=np.concatenate(y_predicted)\n",
    "print(r_square(y_predicted, y_actual))"
   ]
  },
  {
   "cell_type": "code",
   "execution_count": 61,
   "metadata": {},
   "outputs": [
    {
     "name": "stdout",
     "output_type": "stream",
     "text": [
      "0.5477347046362833\n"
     ]
    }
   ],
   "source": [
    "indexes=np.arange(len(f_data))%5\n",
    "y_actual=[]\n",
    "y_predicted=[]\n",
    "\n",
    "for i in range(5):\n",
    "    y_actual.append(f_data[indexes==i])\n",
    "    mod=polynomial_regression_reg(6, 0.0005, max_iter = 1e5, c = 1e7)\n",
    "    mod.fit(x_data[indexes!=i], f_data[indexes!=i])\n",
    "    y_predicted.append(mod.predict(x_data[indexes==i]))\n",
    "    \n",
    "y_actual=np.concatenate(y_actual)\n",
    "y_predicted=np.concatenate(y_predicted)\n",
    "print(r_square(y_predicted, y_actual))"
   ]
  },
  {
   "cell_type": "code",
   "execution_count": null,
   "metadata": {},
   "outputs": [],
   "source": []
  }
 ],
 "metadata": {
  "kernelspec": {
   "display_name": "Python 3",
   "language": "python",
   "name": "python3"
  },
  "language_info": {
   "codemirror_mode": {
    "name": "ipython",
    "version": 3
   },
   "file_extension": ".py",
   "mimetype": "text/x-python",
   "name": "python",
   "nbconvert_exporter": "python",
   "pygments_lexer": "ipython3",
   "version": "3.7.9"
  }
 },
 "nbformat": 4,
 "nbformat_minor": 4
}
